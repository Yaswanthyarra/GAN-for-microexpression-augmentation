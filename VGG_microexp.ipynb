{
  "nbformat": 4,
  "nbformat_minor": 0,
  "metadata": {
    "colab": {
      "provenance": [],
      "authorship_tag": "ABX9TyPUNKKBInEijJ4ABO5zvDUf",
      "include_colab_link": true
    },
    "kernelspec": {
      "name": "python3",
      "display_name": "Python 3"
    },
    "language_info": {
      "name": "python"
    }
  },
  "cells": [
    {
      "cell_type": "markdown",
      "metadata": {
        "id": "view-in-github",
        "colab_type": "text"
      },
      "source": [
        "<a href=\"https://colab.research.google.com/github/Yaswanthyarra/GAN-for-microexpression-augmentation/blob/main/VGG_microexp.ipynb\" target=\"_parent\"><img src=\"https://colab.research.google.com/assets/colab-badge.svg\" alt=\"Open In Colab\"/></a>"
      ]
    },
    {
      "cell_type": "code",
      "source": [
        "import pandas as pd"
      ],
      "metadata": {
        "id": "xl7Y23a2Hbfw"
      },
      "execution_count": 1,
      "outputs": []
    },
    {
      "cell_type": "code",
      "source": [
        "from google.colab import drive\n",
        "drive.mount('/content/drive')"
      ],
      "metadata": {
        "colab": {
          "base_uri": "https://localhost:8080/"
        },
        "id": "XCnYq0CRHfDB",
        "outputId": "4bbe02c0-179f-40bd-c7b9-4bb3ae0eddf9"
      },
      "execution_count": 2,
      "outputs": [
        {
          "output_type": "stream",
          "name": "stdout",
          "text": [
            "Mounted at /content/drive\n"
          ]
        }
      ]
    },
    {
      "cell_type": "code",
      "source": [
        "dataset_dir = '/content/drive/My Drive/CASMEII/Final_Apex_Frames_Segregated'\n",
        "augmented_dir='/content/drive/My Drive/CASMEII/Augmented_Apex_Frames'"
      ],
      "metadata": {
        "id": "RsoUNw-MHjZ-"
      },
      "execution_count": 3,
      "outputs": []
    },
    {
      "cell_type": "code",
      "source": [
        "import os\n",
        "import cv2\n",
        "import numpy as np\n",
        "from sklearn.model_selection import train_test_split\n",
        "import numpy as np\n",
        "import cv2\n",
        "import os\n",
        "from tensorflow.keras.preprocessing.image import ImageDataGenerator\n",
        "from tensorflow.keras.models import Sequential\n",
        "from tensorflow.keras.layers import Conv2D, MaxPooling2D, Flatten, Dense, Dropout\n",
        "from sklearn.model_selection import train_test_split\n",
        "\n",
        "\n",
        "dataset_dir = '/content/drive/My Drive/CASMEII/Final_Apex_Frames_Segregated'\n",
        "\n",
        "label_dict = {'happiness': 0, 'disgust': 1, 'repression': 2, 'surprise': 3, 'fear': 4, 'others': 6, 'sadness': 5}\n",
        "\n",
        "expression_images = []\n",
        "expression_labels = []\n",
        "\n",
        "for class_name, label in label_dict.items():\n",
        "    class_dir = os.path.join(dataset_dir, class_name)\n",
        "    images = os.listdir(class_dir)\n",
        "\n",
        "    for image_file in images:\n",
        "        image_path = os.path.join(class_dir, image_file)\n",
        "        image = cv2.imread(image_path)  # Load the image using OpenCV\n",
        "        #image = cv2.cvtColor(image, cv2.COLOR_BGR2GRAY)\n",
        "        image = cv2.resize(image, (224,224))\n",
        "        if label==1:\n",
        "          expression_images.append(image)\n",
        "          expression_labels.append(label)\n",
        "        if label==6:\n",
        "          expression_images.append(image)\n",
        "          expression_labels.append(label)\n",
        "\n",
        "\n",
        "\n",
        "        expression_images.append(image)\n",
        "        expression_labels.append(label)\n",
        "\n",
        "augmented_dir='/content/drive/My Drive/CASMEII/Augmented_Apex_Frames'\n",
        "label_dict = {'happiness': 0, 'repression': 2, 'surprise': 3, 'fear': 4, 'sadness': 5}\n",
        "\n",
        "for class_name, label in label_dict.items():\n",
        "    class_dir = os.path.join(augmented_dir, class_name)\n",
        "    images = os.listdir(class_dir)\n",
        "\n",
        "    for image_file in images:\n",
        "        image_path = os.path.join(class_dir, image_file)\n",
        "        image = cv2.imread(image_path)  # Load the image using OpenCV\n",
        "        #image = cv2.cvtColor(image, cv2.COLOR_BGR2GRAY)\n",
        "        if label==0:\n",
        "          expression_images.append(image)\n",
        "          expression_labels.append(label)\n",
        "\n",
        "        expression_images.append(image)\n",
        "        expression_labels.append(label)"
      ],
      "metadata": {
        "id": "FGYMiM8PHlxX"
      },
      "execution_count": 4,
      "outputs": []
    },
    {
      "cell_type": "code",
      "source": [
        "from PIL import Image\n",
        "import numpy as np\n",
        "\n",
        "# Assuming your expression_images array has shape (num_images, height, width, channels)\n",
        "\n",
        "# Resize images to a consistent shape\n",
        "target_shape = (224, 224)\n",
        "\n",
        "resized_images = []\n",
        "for img in expression_images:\n",
        "    # Ensure the image has the correct shape and data type\n",
        "    img = np.squeeze(img)  # Remove singleton dimensions\n",
        "    img = img.astype('uint8')  # Convert to unsigned integer type\n",
        "    img = Image.fromarray(img)\n",
        "\n",
        "    # Resize the image\n",
        "    img = img.resize(target_shape, Image.ANTIALIAS)\n",
        "    resized_images.append(np.array(img))\n",
        "\n",
        "expression_images = np.stack(resized_images)\n",
        "\n",
        "# Ensure consistent data type\n",
        "expression_images = expression_images.astype('float32')\n",
        "\n",
        "# Rest of your code...\n"
      ],
      "metadata": {
        "colab": {
          "base_uri": "https://localhost:8080/"
        },
        "id": "VgvgWG6qLF64",
        "outputId": "078f9d8c-8d82-4b8f-e495-379501772f25"
      },
      "execution_count": 5,
      "outputs": [
        {
          "output_type": "stream",
          "name": "stderr",
          "text": [
            "<ipython-input-5-aaf2c4bf8ca3>:17: DeprecationWarning: ANTIALIAS is deprecated and will be removed in Pillow 10 (2023-07-01). Use LANCZOS or Resampling.LANCZOS instead.\n",
            "  img = img.resize(target_shape, Image.ANTIALIAS)\n"
          ]
        }
      ]
    },
    {
      "cell_type": "code",
      "source": [
        "import numpy as np\n",
        "import tensorflow as tf\n",
        "from sklearn.model_selection import train_test_split\n",
        "from tensorflow.keras.models import Sequential\n",
        "from tensorflow.keras.layers import Dense, Flatten\n",
        "from tensorflow.keras.applications.vgg16 import VGG16, preprocess_input\n",
        "from tensorflow.keras.optimizers import Adam\n",
        "from tensorflow.keras.utils import to_categorical\n",
        "\n",
        "# Convert lists to NumPy arrays\n",
        "expression_images = np.array(expression_images)\n",
        "expression_labels = np.array(expression_labels)\n",
        "\n",
        "# Check the shape of the image data and labels\n",
        "print(\"Expression Images Shape:\", expression_images.shape)\n",
        "print(\"Expression Labels Shape:\", expression_labels.shape)\n",
        "\n",
        "# Ensure consistent shape and data type\n",
        "expression_images = np.array([img.astype('float32') for img in expression_images])\n",
        "expression_images = np.stack(expression_images)  # Stack the images to create a 4D array\n",
        "\n",
        "# Obtain the number of class labels\n",
        "num_classes = len(np.unique(expression_labels))\n",
        "\n",
        "# Convert labels to one-hot encoding\n",
        "expression_labels_one_hot = to_categorical(expression_labels, num_classes=num_classes)\n",
        "\n",
        "# Stratified Splitting of data into training and testing sets\n",
        "train_images, test_images, train_labels, test_labels = train_test_split(\n",
        "    expression_images, expression_labels_one_hot, test_size=0.2, stratify=expression_labels, random_state=42\n",
        ")\n",
        "\n",
        "# Load the VGG16 model pre-trained on ImageNet data\n",
        "base_model = VGG16(weights='imagenet', include_top=False, input_shape=(224, 224, 3))\n",
        "\n",
        "# Preprocess the images for the VGG model\n",
        "train_images = preprocess_input(train_images)\n",
        "test_images = preprocess_input(test_images)\n",
        "\n",
        "# Create a sequential model\n",
        "model = Sequential()\n",
        "\n",
        "# Add the VGG base model\n",
        "model.add(base_model)\n",
        "\n",
        "# Flatten the output of the VGG model\n",
        "model.add(Flatten())\n",
        "\n",
        "# Add a dense layer with 256 units and ReLU activation\n",
        "model.add(Dense(256, activation='relu'))\n",
        "\n",
        "# Add the output layer with softmax activation for classification\n",
        "model.add(Dense(num_classes, activation='softmax'))\n",
        "\n",
        "# Compile the model\n",
        "model.compile(optimizer=Adam(lr=0.0001), loss='categorical_crossentropy', metrics=['accuracy'])\n",
        "\n",
        "# Print a summary of the model\n",
        "model.summary()\n"
      ],
      "metadata": {
        "colab": {
          "base_uri": "https://localhost:8080/"
        },
        "id": "0fd5LR6iH9Ah",
        "outputId": "f448c5c1-5db1-4e4d-9795-072ad0baff3a"
      },
      "execution_count": 6,
      "outputs": [
        {
          "output_type": "stream",
          "name": "stdout",
          "text": [
            "Expression Images Shape: (782, 224, 224, 3)\n",
            "Expression Labels Shape: (782,)\n",
            "Downloading data from https://storage.googleapis.com/tensorflow/keras-applications/vgg16/vgg16_weights_tf_dim_ordering_tf_kernels_notop.h5\n",
            "58889256/58889256 [==============================] - 0s 0us/step\n"
          ]
        },
        {
          "output_type": "stream",
          "name": "stderr",
          "text": [
            "WARNING:absl:`lr` is deprecated in Keras optimizer, please use `learning_rate` or use the legacy optimizer, e.g.,tf.keras.optimizers.legacy.Adam.\n"
          ]
        },
        {
          "output_type": "stream",
          "name": "stdout",
          "text": [
            "Model: \"sequential\"\n",
            "_________________________________________________________________\n",
            " Layer (type)                Output Shape              Param #   \n",
            "=================================================================\n",
            " vgg16 (Functional)          (None, 7, 7, 512)         14714688  \n",
            "                                                                 \n",
            " flatten (Flatten)           (None, 25088)             0         \n",
            "                                                                 \n",
            " dense (Dense)               (None, 256)               6422784   \n",
            "                                                                 \n",
            " dense_1 (Dense)             (None, 7)                 1799      \n",
            "                                                                 \n",
            "=================================================================\n",
            "Total params: 21139271 (80.64 MB)\n",
            "Trainable params: 21139271 (80.64 MB)\n",
            "Non-trainable params: 0 (0.00 Byte)\n",
            "_________________________________________________________________\n"
          ]
        }
      ]
    },
    {
      "cell_type": "code",
      "source": [
        "model = tf.keras.models.load_model('/content/drive/My Drive/GAN_Models/VGG_Microexp.h5')\n",
        "# Evaluate the model on the test set\n",
        "from sklearn.metrics import classification_report\n",
        "\n",
        "\n",
        "from sklearn.metrics import precision_score, recall_score, f1_score, balanced_accuracy_score\n",
        "\n",
        "# ... (previous code for model training and evaluation)\n",
        "\n",
        "# Get predicted labels\n",
        "predicted_probabilities = model.predict(test_images)\n",
        "predicted_labels = np.argmax(predicted_probabilities, axis=1)\n",
        "\n",
        "# Convert one-hot encoded test labels back to categorical labels\n",
        "true_labels = np.argmax(test_labels, axis=1)\n",
        "\n",
        "# Print accuracy, precision, recall, F1-score, and UAR\n",
        "print(f'Test Accuracy: {test_acc:.4f}')\n",
        "print(f'Precision: {precision_score(true_labels, predicted_labels, average=\"weighted\"):.4f}')\n",
        "print(f'Recall: {recall_score(true_labels, predicted_labels, average=\"weighted\"):.4f}')\n",
        "print(f'F1-score: {f1_score(true_labels, predicted_labels, average=\"weighted\"):.4f}')\n",
        "print(f'Unweighted Average Recall (UAR): {balanced_accuracy_score(true_labels, predicted_labels):.4f}')\n"
      ],
      "metadata": {
        "colab": {
          "base_uri": "https://localhost:8080/"
        },
        "id": "usNAPY7RIMCg",
        "outputId": "cc48c3b3-930d-49aa-ad5a-b58ba543c9e5"
      },
      "execution_count": 10,
      "outputs": [
        {
          "output_type": "stream",
          "name": "stdout",
          "text": [
            "5/5 [==============================] - 92s 18s/step\n",
            "Test Accuracy: 0.7707\n",
            "Precision: 0.8076\n",
            "Recall: 0.7707\n",
            "F1-score: 0.7732\n",
            "Unweighted Average Recall (UAR): 0.7721\n"
          ]
        }
      ]
    },
    {
      "cell_type": "code",
      "source": [
        "\n",
        "# Train the model\n",
        "history = model.fit(train_images, train_labels, epochs=10, batch_size=32, validation_split=0.2)\n",
        "\n",
        "# Evaluate the model on the test set\n",
        "test_loss, test_acc = model.evaluate(test_images, test_labels)\n",
        "print(f'Test accuracy: {test_acc}')\n",
        "\n",
        "model.save('/content/drive/My Drive/GAN_Models/VGG_Microexp.h5')\n",
        "model = tf.keras.models.load_model('/content/drive/My Drive/GAN_Models/VGG_Microexp.h5')\n"
      ],
      "metadata": {
        "colab": {
          "base_uri": "https://localhost:8080/"
        },
        "id": "WzQwhw_-owVi",
        "outputId": "2dcd0bf5-fef9-4d19-d5e8-1fced28ba755"
      },
      "execution_count": null,
      "outputs": [
        {
          "output_type": "stream",
          "name": "stdout",
          "text": [
            "Epoch 1/10\n",
            "16/16 [==============================] - 753s 47s/step - loss: 0.4651 - accuracy: 0.8460 - val_loss: 0.6419 - val_accuracy: 0.7840\n",
            "Epoch 2/10\n",
            "16/16 [==============================] - 756s 48s/step - loss: 0.4622 - accuracy: 0.8300 - val_loss: 0.7741 - val_accuracy: 0.7280\n",
            "Epoch 3/10\n",
            "16/16 [==============================] - 710s 44s/step - loss: 0.4799 - accuracy: 0.8340 - val_loss: 0.7196 - val_accuracy: 0.7920\n",
            "Epoch 4/10\n",
            "16/16 [==============================] - 710s 44s/step - loss: 0.4230 - accuracy: 0.8340 - val_loss: 0.6876 - val_accuracy: 0.7600\n",
            "Epoch 5/10\n",
            "16/16 [==============================] - 704s 44s/step - loss: 0.3322 - accuracy: 0.8960 - val_loss: 0.6326 - val_accuracy: 0.7840\n",
            "Epoch 6/10\n",
            "16/16 [==============================] - 704s 44s/step - loss: 0.3328 - accuracy: 0.8920 - val_loss: 0.8774 - val_accuracy: 0.7680\n",
            "Epoch 7/10\n",
            "16/16 [==============================] - 738s 46s/step - loss: 0.3412 - accuracy: 0.8820 - val_loss: 0.6696 - val_accuracy: 0.8000\n",
            "Epoch 8/10\n",
            "16/16 [==============================] - 740s 47s/step - loss: 0.2969 - accuracy: 0.8860 - val_loss: 0.6595 - val_accuracy: 0.8160\n",
            "Epoch 9/10\n",
            "16/16 [==============================] - 708s 44s/step - loss: 0.2431 - accuracy: 0.9100 - val_loss: 0.7721 - val_accuracy: 0.7840\n",
            "Epoch 10/10\n",
            "16/16 [==============================] - 741s 47s/step - loss: 0.2482 - accuracy: 0.9140 - val_loss: 0.7314 - val_accuracy: 0.7920\n",
            "5/5 [==============================] - 61s 12s/step - loss: 0.8294 - accuracy: 0.7707\n",
            "Test accuracy: 0.7707006335258484\n"
          ]
        }
      ]
    }
  ]
}