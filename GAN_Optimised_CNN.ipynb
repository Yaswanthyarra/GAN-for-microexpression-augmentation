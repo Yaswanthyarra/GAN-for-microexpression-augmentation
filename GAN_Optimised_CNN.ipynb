{
  "nbformat": 4,
  "nbformat_minor": 0,
  "metadata": {
    "colab": {
      "provenance": [],
      "authorship_tag": "ABX9TyPfUuFAFGOmFulbODWUDCyC",
      "include_colab_link": true
    },
    "kernelspec": {
      "name": "python3",
      "display_name": "Python 3"
    },
    "language_info": {
      "name": "python"
    }
  },
  "cells": [
    {
      "cell_type": "markdown",
      "metadata": {
        "id": "view-in-github",
        "colab_type": "text"
      },
      "source": [
        "<a href=\"https://colab.research.google.com/github/Yaswanthyarra/GAN-for-microexpression-augmentation/blob/main/GAN_Optimised_CNN.ipynb\" target=\"_parent\"><img src=\"https://colab.research.google.com/assets/colab-badge.svg\" alt=\"Open In Colab\"/></a>"
      ]
    },
    {
      "cell_type": "code",
      "execution_count": 1,
      "metadata": {
        "id": "jG_S_l5b_U_A"
      },
      "outputs": [],
      "source": [
        "import pandas as pd"
      ]
    },
    {
      "cell_type": "code",
      "source": [
        "from google.colab import drive\n",
        "drive.mount('/content/drive')"
      ],
      "metadata": {
        "colab": {
          "base_uri": "https://localhost:8080/"
        },
        "id": "B5kY4W_A_ith",
        "outputId": "bb748eeb-af68-442c-edf7-917b0a16a138"
      },
      "execution_count": 2,
      "outputs": [
        {
          "output_type": "stream",
          "name": "stdout",
          "text": [
            "Mounted at /content/drive\n"
          ]
        }
      ]
    },
    {
      "cell_type": "code",
      "source": [
        "dataset_dir = '/content/drive/My Drive/CASMEII/Final_Apex_Frames_Segregated'\n",
        "augmented_dir='/content/drive/My Drive/CASMEII/Augmented_Apex_Frames'"
      ],
      "metadata": {
        "id": "Qhbc3cv6AQoF"
      },
      "execution_count": 42,
      "outputs": []
    },
    {
      "cell_type": "code",
      "source": [
        "import os\n",
        "import cv2\n",
        "import numpy as np\n",
        "from sklearn.model_selection import train_test_split\n",
        "import numpy as np\n",
        "\n",
        "import cv2\n",
        "import os\n",
        "from tensorflow.keras.preprocessing.image import ImageDataGenerator\n",
        "from tensorflow.keras.models import Sequential\n",
        "from tensorflow.keras.layers import Conv2D, MaxPooling2D, Flatten, Dense, Dropout\n",
        "from sklearn.model_selection import train_test_split\n",
        "\n",
        "\n",
        "dataset_dir = '/content/drive/My Drive/CASMEII/Final_Apex_Frames_Segregated'\n",
        "\n",
        "label_dict = {'happiness': 0, 'disgust': 1, 'repression': 2, 'surprise': 3, 'fear': 4, 'others': 6, 'sadness': 5}\n",
        "\n",
        "expression_images = []\n",
        "expression_labels = []\n",
        "\n",
        "for class_name, label in label_dict.items():\n",
        "    class_dir = os.path.join(dataset_dir, class_name)\n",
        "    images = os.listdir(class_dir)\n",
        "\n",
        "    for image_file in images:\n",
        "        image_path = os.path.join(class_dir, image_file)\n",
        "        image = cv2.imread(image_path)  # Load the image using OpenCV\n",
        "        image = cv2.cvtColor(image, cv2.COLOR_BGR2GRAY)\n",
        "        image = cv2.resize(image, (64,64))\n",
        "        if label==1:\n",
        "          expression_images.append(image)\n",
        "          expression_labels.append(label)\n",
        "        if label==6:\n",
        "          expression_images.append(image)\n",
        "          expression_labels.append(label)\n",
        "\n",
        "\n",
        "\n",
        "        expression_images.append(image)\n",
        "        expression_labels.append(label)\n"
      ],
      "metadata": {
        "id": "RP8K4MjHATwO"
      },
      "execution_count": 44,
      "outputs": []
    },
    {
      "cell_type": "code",
      "source": [
        "augmented_dir='/content/drive/My Drive/CASMEII/Augmented_Apex_Frames'\n",
        "label_dict = {'happiness': 0, 'repression': 2, 'surprise': 3, 'fear': 4, 'sadness': 5}\n",
        "\n",
        "for class_name, label in label_dict.items():\n",
        "    class_dir = os.path.join(augmented_dir, class_name)\n",
        "    images = os.listdir(class_dir)\n",
        "\n",
        "    for image_file in images:\n",
        "        image_path = os.path.join(class_dir, image_file)\n",
        "        image = cv2.imread(image_path)  # Load the image using OpenCV\n",
        "        image = cv2.cvtColor(image, cv2.COLOR_BGR2GRAY)\n",
        "        if label==0:\n",
        "          expression_images.append(image)\n",
        "          expression_labels.append(label)\n",
        "\n",
        "        expression_images.append(image)\n",
        "        expression_labels.append(label)"
      ],
      "metadata": {
        "id": "rXHVbNNaEptj"
      },
      "execution_count": 46,
      "outputs": []
    },
    {
      "cell_type": "code",
      "source": [
        "\n",
        "# Convert lists to NumPy arrays\n",
        "expression_images = np.array(expression_images)\n",
        "expression_labels = np.array(expression_labels)\n",
        "\n",
        "# Check the shape of the image data and labels\n",
        "print(\"Expression Images Shape:\", expression_images.shape)\n",
        "print(\"Expression Labels Shape:\", expression_labels.shape)\n",
        "# Obtain the number of class labels\n",
        "num_classes = len(np.unique(expression_labels))\n",
        "\n",
        "# Stratified Splitting of data into training and testing sets\n",
        "train_images, test_images, train_labels, test_labels = train_test_split(expression_images, expression_labels, test_size=0.2, stratify=expression_labels, random_state=42)"
      ],
      "metadata": {
        "colab": {
          "base_uri": "https://localhost:8080/"
        },
        "id": "VzkDyB34EWKC",
        "outputId": "0c6e7965-f3ec-4700-8476-65d167d7ad81"
      },
      "execution_count": 47,
      "outputs": [
        {
          "output_type": "stream",
          "name": "stdout",
          "text": [
            "Expression Images Shape: (1147, 64, 64)\n",
            "Expression Labels Shape: (1147,)\n"
          ]
        }
      ]
    },
    {
      "cell_type": "code",
      "source": [
        "from keras.optimizers import Adam\n",
        "from keras.models import Sequential\n",
        "from keras.layers import Conv2D, MaxPooling2D, Flatten, Dense, Dropout\n",
        "\n",
        "# Define the model architecture\n",
        "model = Sequential([\n",
        "    Conv2D(32, (3,3), activation='relu', input_shape=(64, 64, 1)),\n",
        "    MaxPooling2D((2,2)),\n",
        "    Conv2D(64, (3,3), activation='relu'),\n",
        "    MaxPooling2D((2,2)),\n",
        "    Conv2D(128, (3,3), activation='relu'),\n",
        "    MaxPooling2D((2,2)),\n",
        "    Flatten(),\n",
        "    Dense(128, activation='relu'),\n",
        "    Dropout(0.29),\n",
        "    Dense(num_classes, activation='softmax')\n",
        "])\n",
        "\n",
        "# Define the optimizer with a specific learning rate\n",
        "optimizer = Adam(learning_rate=0.0006)\n",
        "\n",
        "# Compile the model\n",
        "model.compile(optimizer=optimizer,\n",
        "              loss='sparse_categorical_crossentropy',\n",
        "              metrics=['accuracy'])\n"
      ],
      "metadata": {
        "id": "_PxWcicCGR0O"
      },
      "execution_count": 52,
      "outputs": []
    },
    {
      "cell_type": "code",
      "source": [
        "\n",
        "# Train the model\n",
        "model.fit(train_images, train_labels, epochs=52, batch_size=17, validation_data=(test_images, test_labels))\n"
      ],
      "metadata": {
        "colab": {
          "base_uri": "https://localhost:8080/"
        },
        "id": "Qpy43xeqGTxU",
        "outputId": "eb0e95e3-4e8e-48ca-e4d7-aa21f2f187da"
      },
      "execution_count": 53,
      "outputs": [
        {
          "output_type": "stream",
          "name": "stdout",
          "text": [
            "Epoch 1/52\n",
            "54/54 [==============================] - 7s 118ms/step - loss: 4.0883 - accuracy: 0.3250 - val_loss: 1.1582 - val_accuracy: 0.7217\n",
            "Epoch 2/52\n",
            "54/54 [==============================] - 8s 157ms/step - loss: 0.9292 - accuracy: 0.7077 - val_loss: 0.5542 - val_accuracy: 0.8348\n",
            "Epoch 3/52\n",
            "54/54 [==============================] - 6s 119ms/step - loss: 0.5463 - accuracy: 0.8266 - val_loss: 0.4871 - val_accuracy: 0.8348\n",
            "Epoch 4/52\n",
            "54/54 [==============================] - 8s 152ms/step - loss: 0.4466 - accuracy: 0.8408 - val_loss: 0.4129 - val_accuracy: 0.8696\n",
            "Epoch 5/52\n",
            "54/54 [==============================] - 6s 119ms/step - loss: 0.3915 - accuracy: 0.8593 - val_loss: 0.4266 - val_accuracy: 0.8783\n",
            "Epoch 6/52\n",
            "54/54 [==============================] - 10s 193ms/step - loss: 0.3880 - accuracy: 0.8582 - val_loss: 0.4099 - val_accuracy: 0.8652\n",
            "Epoch 7/52\n",
            "54/54 [==============================] - 6s 120ms/step - loss: 0.3330 - accuracy: 0.8659 - val_loss: 0.3668 - val_accuracy: 0.8783\n",
            "Epoch 8/52\n",
            "54/54 [==============================] - 9s 159ms/step - loss: 0.2893 - accuracy: 0.8953 - val_loss: 0.3676 - val_accuracy: 0.8478\n",
            "Epoch 9/52\n",
            "54/54 [==============================] - 6s 119ms/step - loss: 0.2410 - accuracy: 0.9226 - val_loss: 0.3507 - val_accuracy: 0.8739\n",
            "Epoch 10/52\n",
            "54/54 [==============================] - 9s 159ms/step - loss: 0.2275 - accuracy: 0.9106 - val_loss: 0.3299 - val_accuracy: 0.9000\n",
            "Epoch 11/52\n",
            "54/54 [==============================] - 6s 113ms/step - loss: 0.2046 - accuracy: 0.9368 - val_loss: 0.3127 - val_accuracy: 0.9043\n",
            "Epoch 12/52\n",
            "54/54 [==============================] - 8s 156ms/step - loss: 0.1887 - accuracy: 0.9378 - val_loss: 0.3040 - val_accuracy: 0.9217\n",
            "Epoch 13/52\n",
            "54/54 [==============================] - 6s 118ms/step - loss: 0.1496 - accuracy: 0.9455 - val_loss: 0.3418 - val_accuracy: 0.8957\n",
            "Epoch 14/52\n",
            "54/54 [==============================] - 8s 158ms/step - loss: 0.1656 - accuracy: 0.9368 - val_loss: 0.3015 - val_accuracy: 0.9217\n",
            "Epoch 15/52\n",
            "54/54 [==============================] - 6s 119ms/step - loss: 0.1167 - accuracy: 0.9618 - val_loss: 0.3362 - val_accuracy: 0.9130\n",
            "Epoch 16/52\n",
            "54/54 [==============================] - 8s 156ms/step - loss: 0.1150 - accuracy: 0.9640 - val_loss: 0.3792 - val_accuracy: 0.9130\n",
            "Epoch 17/52\n",
            "54/54 [==============================] - 7s 124ms/step - loss: 0.1103 - accuracy: 0.9673 - val_loss: 0.3022 - val_accuracy: 0.9130\n",
            "Epoch 18/52\n",
            "54/54 [==============================] - 9s 158ms/step - loss: 0.1019 - accuracy: 0.9662 - val_loss: 0.3901 - val_accuracy: 0.8957\n",
            "Epoch 19/52\n",
            "54/54 [==============================] - 6s 119ms/step - loss: 0.0869 - accuracy: 0.9651 - val_loss: 0.2660 - val_accuracy: 0.9261\n",
            "Epoch 20/52\n",
            "54/54 [==============================] - 8s 155ms/step - loss: 0.0957 - accuracy: 0.9662 - val_loss: 0.3253 - val_accuracy: 0.9087\n",
            "Epoch 21/52\n",
            "54/54 [==============================] - 6s 120ms/step - loss: 0.0713 - accuracy: 0.9706 - val_loss: 0.3619 - val_accuracy: 0.9261\n",
            "Epoch 22/52\n",
            "54/54 [==============================] - 8s 152ms/step - loss: 0.0622 - accuracy: 0.9793 - val_loss: 0.3387 - val_accuracy: 0.9174\n",
            "Epoch 23/52\n",
            "54/54 [==============================] - 6s 115ms/step - loss: 0.0487 - accuracy: 0.9847 - val_loss: 0.3500 - val_accuracy: 0.9304\n",
            "Epoch 24/52\n",
            "54/54 [==============================] - 8s 157ms/step - loss: 0.0421 - accuracy: 0.9847 - val_loss: 0.3147 - val_accuracy: 0.9130\n",
            "Epoch 25/52\n",
            "54/54 [==============================] - 6s 118ms/step - loss: 0.0591 - accuracy: 0.9760 - val_loss: 0.3708 - val_accuracy: 0.9217\n",
            "Epoch 26/52\n",
            "54/54 [==============================] - 8s 157ms/step - loss: 0.0546 - accuracy: 0.9836 - val_loss: 0.3360 - val_accuracy: 0.9304\n",
            "Epoch 27/52\n",
            "54/54 [==============================] - 6s 120ms/step - loss: 0.0534 - accuracy: 0.9804 - val_loss: 0.3383 - val_accuracy: 0.9348\n",
            "Epoch 28/52\n",
            "54/54 [==============================] - 9s 177ms/step - loss: 0.0536 - accuracy: 0.9749 - val_loss: 0.3662 - val_accuracy: 0.9261\n",
            "Epoch 29/52\n",
            "54/54 [==============================] - 8s 141ms/step - loss: 0.0514 - accuracy: 0.9793 - val_loss: 0.3240 - val_accuracy: 0.9304\n",
            "Epoch 30/52\n",
            "54/54 [==============================] - 8s 144ms/step - loss: 0.0304 - accuracy: 0.9924 - val_loss: 0.4005 - val_accuracy: 0.9304\n",
            "Epoch 31/52\n",
            "54/54 [==============================] - 7s 125ms/step - loss: 0.0367 - accuracy: 0.9891 - val_loss: 0.3263 - val_accuracy: 0.9130\n",
            "Epoch 32/52\n",
            "54/54 [==============================] - 8s 145ms/step - loss: 0.0394 - accuracy: 0.9847 - val_loss: 0.3347 - val_accuracy: 0.9304\n",
            "Epoch 33/52\n",
            "54/54 [==============================] - 7s 124ms/step - loss: 0.0270 - accuracy: 0.9945 - val_loss: 0.4569 - val_accuracy: 0.9304\n",
            "Epoch 34/52\n",
            "54/54 [==============================] - 8s 148ms/step - loss: 0.0221 - accuracy: 0.9924 - val_loss: 0.4464 - val_accuracy: 0.9217\n",
            "Epoch 35/52\n",
            "54/54 [==============================] - 7s 126ms/step - loss: 0.0474 - accuracy: 0.9836 - val_loss: 0.4954 - val_accuracy: 0.9087\n",
            "Epoch 36/52\n",
            "54/54 [==============================] - 8s 154ms/step - loss: 0.0622 - accuracy: 0.9826 - val_loss: 0.3793 - val_accuracy: 0.9391\n",
            "Epoch 37/52\n",
            "54/54 [==============================] - 7s 120ms/step - loss: 0.0112 - accuracy: 0.9989 - val_loss: 0.4695 - val_accuracy: 0.9261\n",
            "Epoch 38/52\n",
            "54/54 [==============================] - 9s 163ms/step - loss: 0.0592 - accuracy: 0.9771 - val_loss: 0.3279 - val_accuracy: 0.9261\n",
            "Epoch 39/52\n",
            "54/54 [==============================] - 6s 120ms/step - loss: 0.0551 - accuracy: 0.9847 - val_loss: 0.3079 - val_accuracy: 0.9261\n",
            "Epoch 40/52\n",
            "54/54 [==============================] - 14s 264ms/step - loss: 0.0206 - accuracy: 0.9945 - val_loss: 0.3320 - val_accuracy: 0.9391\n",
            "Epoch 41/52\n",
            "54/54 [==============================] - 11s 200ms/step - loss: 0.0171 - accuracy: 0.9967 - val_loss: 0.3596 - val_accuracy: 0.9304\n",
            "Epoch 42/52\n",
            "54/54 [==============================] - 6s 115ms/step - loss: 0.0065 - accuracy: 1.0000 - val_loss: 0.4228 - val_accuracy: 0.9261\n",
            "Epoch 43/52\n",
            "54/54 [==============================] - 9s 158ms/step - loss: 0.0077 - accuracy: 0.9967 - val_loss: 0.4018 - val_accuracy: 0.9217\n",
            "Epoch 44/52\n",
            "54/54 [==============================] - 7s 121ms/step - loss: 0.0242 - accuracy: 0.9891 - val_loss: 0.3358 - val_accuracy: 0.9261\n",
            "Epoch 45/52\n",
            "54/54 [==============================] - 8s 153ms/step - loss: 0.0648 - accuracy: 0.9826 - val_loss: 0.2814 - val_accuracy: 0.9174\n",
            "Epoch 46/52\n",
            "54/54 [==============================] - 6s 120ms/step - loss: 0.0843 - accuracy: 0.9695 - val_loss: 0.3055 - val_accuracy: 0.9087\n",
            "Epoch 47/52\n",
            "54/54 [==============================] - 8s 155ms/step - loss: 0.0615 - accuracy: 0.9815 - val_loss: 0.3312 - val_accuracy: 0.9391\n",
            "Epoch 48/52\n",
            "54/54 [==============================] - 6s 113ms/step - loss: 0.0698 - accuracy: 0.9782 - val_loss: 0.3750 - val_accuracy: 0.8913\n",
            "Epoch 49/52\n",
            "54/54 [==============================] - 10s 182ms/step - loss: 0.0307 - accuracy: 0.9913 - val_loss: 0.3606 - val_accuracy: 0.9217\n",
            "Epoch 50/52\n",
            "54/54 [==============================] - 7s 133ms/step - loss: 0.0205 - accuracy: 0.9913 - val_loss: 0.3740 - val_accuracy: 0.9261\n",
            "Epoch 51/52\n",
            "54/54 [==============================] - 8s 157ms/step - loss: 0.0080 - accuracy: 0.9978 - val_loss: 0.6050 - val_accuracy: 0.9217\n",
            "Epoch 52/52\n",
            "54/54 [==============================] - 6s 120ms/step - loss: 0.0367 - accuracy: 0.9869 - val_loss: 0.3470 - val_accuracy: 0.9217\n"
          ]
        },
        {
          "output_type": "execute_result",
          "data": {
            "text/plain": [
              "<keras.src.callbacks.History at 0x7e8aae3d2950>"
            ]
          },
          "metadata": {},
          "execution_count": 53
        }
      ]
    },
    {
      "cell_type": "code",
      "source": [
        "model.save(\"/content/drive/My Drive/CASMEII/GAN_CNN_Modal.h5\")"
      ],
      "metadata": {
        "id": "GQKO1C9lZKhp"
      },
      "execution_count": 55,
      "outputs": []
    },
    {
      "cell_type": "code",
      "source": [
        "\n",
        "# Evaluate the model on the test set\n",
        "test_loss, test_acc = model.evaluate(test_images, test_labels, verbose=2)\n",
        "print('Test accuracy:', test_acc)"
      ],
      "metadata": {
        "colab": {
          "base_uri": "https://localhost:8080/"
        },
        "id": "UZWCkMogGXSJ",
        "outputId": "58515807-5fb4-4079-d016-b3def26a46ac"
      },
      "execution_count": 56,
      "outputs": [
        {
          "output_type": "stream",
          "name": "stdout",
          "text": [
            "8/8 - 0s - loss: 0.3470 - accuracy: 0.9217 - 344ms/epoch - 43ms/step\n",
            "Test accuracy: 0.9217391014099121\n"
          ]
        }
      ]
    },
    {
      "cell_type": "code",
      "source": [
        "from sklearn.metrics import classification_report\n",
        "predictions = model.predict(test_images)\n",
        "predicted_labels = np.argmax(predictions, axis=1)\n",
        "\n",
        "\n",
        "\n",
        "# Calculate precision, recall, F1-score, and support\n",
        "report = classification_report(test_labels, predicted_labels)\n",
        "print(report)"
      ],
      "metadata": {
        "colab": {
          "base_uri": "https://localhost:8080/"
        },
        "id": "jVC-zPo4J46V",
        "outputId": "bc03e9ae-7a6b-416e-a746-5c0fcbdbcb6b"
      },
      "execution_count": 58,
      "outputs": [
        {
          "output_type": "stream",
          "name": "stdout",
          "text": [
            "8/8 [==============================] - 1s 89ms/step\n",
            "              precision    recall  f1-score   support\n",
            "\n",
            "           0       0.89      0.95      0.92        58\n",
            "           1       0.81      0.84      0.82        25\n",
            "           2       1.00      0.94      0.97        31\n",
            "           3       0.88      0.88      0.88        25\n",
            "           4       1.00      1.00      1.00        24\n",
            "           5       1.00      0.93      0.96        27\n",
            "           6       0.92      0.90      0.91        40\n",
            "\n",
            "    accuracy                           0.92       230\n",
            "   macro avg       0.93      0.92      0.92       230\n",
            "weighted avg       0.92      0.92      0.92       230\n",
            "\n"
          ]
        }
      ]
    }
  ]
}